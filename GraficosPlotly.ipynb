{
 "cells": [
  {
   "cell_type": "code",
   "execution_count": 7,
   "metadata": {},
   "outputs": [],
   "source": [
    "from pyspark.sql import SparkSession\n",
    "\n",
    "# Crear SparkSession\n",
    "spark = SparkSession.builder.appName(\"Covid19 - Dashboard\").config(\"spark.memory.offHeap.enabled\",\"true\").config(\"spark.memory.offHeap.size\",\"10g\").getOrCreate()"
   ]
  },
  {
   "cell_type": "code",
   "execution_count": 9,
   "metadata": {},
   "outputs": [
    {
     "name": "stdout",
     "output_type": "stream",
     "text": [
      "+-------------------+-----------+------+--------------------+-------------+-------------+-------------+--------------+---------+--------+--------+----+--------+--------+--------+----+----+--------+------------+--------------+--------+-------------+----------+-------------------------+----+---+\n",
      "|FECHA_ACTUALIZACION|ID_REGISTRO|  SEXO|         ENTIDAD_RES|MUNICIPIO_RES|TIPO_PACIENTE|FECHA_INGRESO|FECHA_SINTOMAS|FECHA_DEF|INTUBADO|NEUMONIA|EDAD|EMBARAZO|INDIGENA|DIABETES|EPOC|ASMA|INMUSUPR|HIPERTENSION|CARDIOVASCULAR|OBESIDAD|RENAL_CRONICA|TABAQUISMO|CLASIFICACION_FINAL_COVID| UCI|DEF|\n",
      "+-------------------+-----------+------+--------------------+-------------+-------------+-------------+--------------+---------+--------+--------+----+--------+--------+--------+----+----+--------+------------+--------------+--------+-------------+----------+-------------------------+----+---+\n",
      "|         2025-03-11|    g8561e7| MUJER|              MÉXICO|           33|HOSPITALIZADO|   2024-11-29|    2024-11-29|     NULL|      SI|      SI|   0|      NO|      NO|      NO|  NO|  NO|      NO|          NO|            NO|      NO|           NO|        NO|                        7|  NO| NO|\n",
      "|         2025-03-11|    gd01eaa|HOMBRE|    CIUDAD DE MÉXICO|            7|  AMBULATORIO|   2024-01-24|    2024-01-24|     NULL|    NULL|      NO|  39|    NULL|      NO|      NO|  NO|  NO|      NO|          NO|            NO|      NO|           NO|        NO|                        3|NULL| NO|\n",
      "|         2025-03-11|    g6666e3| MUJER|    CIUDAD DE MÉXICO|           12|  AMBULATORIO|   2024-01-25|    2024-01-23|     NULL|    NULL|      NO|  58|      NO|      NO|      NO|  NO|  NO|      NO|          NO|            NO|      NO|           NO|        NO|                        6|NULL| NO|\n",
      "|         2025-03-11|    gbbbb9b| MUJER|             HIDALGO|           77|  AMBULATORIO|   2024-01-24|    2024-01-21|     NULL|    NULL|      NO|  36|      NO|      NO|      NO|  NO|  NO|      NO|          NO|            NO|      NO|           NO|        NO|                        6|NULL| NO|\n",
      "|         2025-03-11|    gbf2911|HOMBRE|COAHUILA DE ZARAGOZA|           35|  AMBULATORIO|   2024-01-25|    2024-01-24|     NULL|    NULL|      NO|  24|    NULL|      NO|      NO|  NO|  NO|      NO|          NO|            NO|      NO|           NO|        NO|                        6|NULL| NO|\n",
      "+-------------------+-----------+------+--------------------+-------------+-------------+-------------+--------------+---------+--------+--------+----+--------+--------+--------+----+----+--------+------------+--------------+--------+-------------+----------+-------------------------+----+---+\n",
      "only showing top 5 rows\n",
      "\n"
     ]
    }
   ],
   "source": [
    "df = spark.read.csv('./data/Nuevos/COVID19MEXICO20_25etiquetado.csv', header=True, inferSchema=True)\n",
    "\n",
    "# Verifica que la carga sea correcta\n",
    "df.show(5)"
   ]
  },
  {
   "cell_type": "code",
   "execution_count": 14,
   "metadata": {},
   "outputs": [],
   "source": [
    "spark.stop()"
   ]
  }
 ],
 "metadata": {
  "kernelspec": {
   "display_name": "Python 3",
   "language": "python",
   "name": "python3"
  },
  "language_info": {
   "codemirror_mode": {
    "name": "ipython",
    "version": 3
   },
   "file_extension": ".py",
   "mimetype": "text/x-python",
   "name": "python",
   "nbconvert_exporter": "python",
   "pygments_lexer": "ipython3",
   "version": "3.10.5"
  }
 },
 "nbformat": 4,
 "nbformat_minor": 2
}
