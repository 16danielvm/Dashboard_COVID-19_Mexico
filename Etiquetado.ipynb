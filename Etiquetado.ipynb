{
 "cells": [
  {
   "cell_type": "code",
   "execution_count": 1,
   "metadata": {},
   "outputs": [],
   "source": [
    "import pandas as pd\n",
    "import numpy as np"
   ]
  },
  {
   "cell_type": "code",
   "execution_count": 2,
   "metadata": {},
   "outputs": [],
   "source": [
    "df = pd.read_parquet('./data/Nuevos/COVID19MEXICO20_25.parquet')"
   ]
  },
  {
   "cell_type": "code",
   "execution_count": 3,
   "metadata": {},
   "outputs": [],
   "source": [
    "caracteristicas_SINO = ['DIABETES', 'EPOC', 'ASMA', 'INMUSUPR', 'HIPERTENSION', 'CARDIOVASCULAR', 'OBESIDAD', 'RENAL_CRONICA', 'TABAQUISMO','UCI','INTUBADO','NEUMONIA', 'INDIGENA','EMBARAZO']"
   ]
  },
  {
   "cell_type": "code",
   "execution_count": 4,
   "metadata": {},
   "outputs": [],
   "source": [
    "df[caracteristicas_SINO] = df[caracteristicas_SINO].replace({1:'SI', 2:'NO', 97:np.nan, 98:np.nan, 99:np.nan})"
   ]
  },
  {
   "cell_type": "code",
   "execution_count": 5,
   "metadata": {},
   "outputs": [],
   "source": [
    "df['SEXO'] = df['SEXO'].replace({1:'MUJER', 2:'HOMBRE', 99:np.nan})"
   ]
  },
  {
   "cell_type": "code",
   "execution_count": 6,
   "metadata": {},
   "outputs": [],
   "source": [
    "df['TIPO_PACIENTE'] = df['TIPO_PACIENTE'].replace({1:'AMBULATORIO', 2:'HOSPITALIZADO', 99:np.nan})"
   ]
  },
  {
   "cell_type": "code",
   "execution_count": 7,
   "metadata": {},
   "outputs": [],
   "source": [
    "df['DEF'] = df['DEF'].replace({1:'SI', 0:'NO'})"
   ]
  },
  {
   "cell_type": "code",
   "execution_count": 8,
   "metadata": {},
   "outputs": [],
   "source": [
    "mapeo_estados = {\n",
    "    1: 'AGUASCALIENTES', 2: 'BAJA CALIFORNIA', 3: 'BAJA CALIFORNIA SUR',\n",
    "    4: 'CAMPECHE', 5: 'COAHUILA DE ZARAGOZA', 6: 'COLIMA',\n",
    "    7: 'CHIAPAS', 8: 'CHIHUAHUA', 9: 'CIUDAD DE MÉXICO',\n",
    "    10: 'DURANGO', 11: 'GUANAJUATO', 12: 'GUERRERO',\n",
    "    13: 'HIDALGO', 14: 'JALISCO', 15: 'MÉXICO',\n",
    "    16: 'MICHOACÁN DE OCAMPO', 17: 'MORELOS', 18: 'NAYARIT',\n",
    "    19: 'NUEVO LEÓN', 20: 'OAXACA', 21: 'PUEBLA',\n",
    "    22: 'QUERÉTARO', 23: 'QUINTANA ROO', 24: 'SAN LUIS POTOSÍ',\n",
    "    25: 'SINALOA', 26: 'SONORA', 27: 'TABASCO',\n",
    "    28: 'TAMAULIPAS', 29: 'TLAXCALA', 30: 'VERACRUZ DE IGNACIO DE LA LLAVE',\n",
    "    31: 'YUCATÁN', 32: 'ZACATECAS', 36: 'ESTADOS UNIDOS MEXICANOS',\n",
    "    97: 'NO APLICA', 98: 'SE IGNORA', 99: 'NO ESPECIFICADO'\n",
    "}"
   ]
  },
  {
   "cell_type": "code",
   "execution_count": 9,
   "metadata": {},
   "outputs": [],
   "source": [
    "df['ENTIDAD_RES'] = df['ENTIDAD_RES'].replace(mapeo_estados)"
   ]
  },
  {
   "cell_type": "code",
   "execution_count": 11,
   "metadata": {},
   "outputs": [],
   "source": [
    "df.to_parquet('./data/Nuevos/COVID19MEXICO20_25labeled.parquet', index=False)"
   ]
  }
 ],
 "metadata": {
  "kernelspec": {
   "display_name": "Python 3",
   "language": "python",
   "name": "python3"
  },
  "language_info": {
   "codemirror_mode": {
    "name": "ipython",
    "version": 3
   },
   "file_extension": ".py",
   "mimetype": "text/x-python",
   "name": "python",
   "nbconvert_exporter": "python",
   "pygments_lexer": "ipython3",
   "version": "3.10.5"
  }
 },
 "nbformat": 4,
 "nbformat_minor": 2
}
